{
 "cells": [
  {
   "cell_type": "code",
   "execution_count": null,
   "id": "c2143800",
   "metadata": {},
   "outputs": [
    {
     "name": "stderr",
     "output_type": "stream",
     "text": [
      "2023-02-06 09:57:53.997782: W tensorflow/stream_executor/platform/default/dso_loader.cc:64] Could not load dynamic library 'libcudart.so.11.0'; dlerror: libcudart.so.11.0: cannot open shared object file: No such file or directory\n",
      "2023-02-06 09:57:53.997831: I tensorflow/stream_executor/cuda/cudart_stub.cc:29] Ignore above cudart dlerror if you do not have a GPU set up on your machine.\n"
     ]
    }
   ],
   "source": [
    "# TF1 version\n",
    "import tensorflow as tf\n",
    "import tensorflow_hub as hub\n",
    "\n",
    "m = hub.load('https://tfhub.dev/google/trillsson4/1')\n",
    "# NOTE: Audio should be floats in [-1, 1], sampled at 16kHz. Model input is of\n",
    "# the shape [batch size, time].\n",
    "audio_samples = tf.zeros([3, 64000])\n",
    "embeddings = m(audio_samples)['embedding']\n",
    "# Models internally aggregate over time. For a time-series of embeddings, the\n",
    "# user can frame audio however they want.\n",
    "embeddings.shape.assert_is_compatible_with([None, 1024])\n",
    "\n",
    "# TF2 version\n",
    "import tensorflow as tf\n",
    "import tensorflow_hub as hub\n",
    "\n",
    "m = hub.KerasLayer('https://tfhub.dev/google/trillsson4/1')\n",
    "# NOTE: Audio should be floats in [-1, 1], sampled at 16kHz. Model input is of\n",
    "# the shape [batch size, time].\n",
    "audio_samples = tf.zeros([3, 64000])\n",
    "embeddings = m(audio_samples)['embedding']\n",
    "# Models internally aggregate over time. For a time-series of embeddings, the\n",
    "# user can frame audio however they want.\n",
    "embeddings.shape.assert_is_compatible_with([None, 1024])\n"
   ]
  },
  {
   "cell_type": "code",
   "execution_count": null,
   "id": "cd5af493",
   "metadata": {},
   "outputs": [],
   "source": []
  }
 ],
 "metadata": {
  "kernelspec": {
   "display_name": "Python 3 (ipykernel)",
   "language": "python",
   "name": "python3"
  },
  "language_info": {
   "codemirror_mode": {
    "name": "ipython",
    "version": 3
   },
   "file_extension": ".py",
   "mimetype": "text/x-python",
   "name": "python",
   "nbconvert_exporter": "python",
   "pygments_lexer": "ipython3",
   "version": "3.10.4"
  }
 },
 "nbformat": 4,
 "nbformat_minor": 5
}
