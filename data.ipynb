{
 "cells": [
  {
   "cell_type": "code",
   "execution_count": 2,
   "metadata": {},
   "outputs": [],
   "source": [
    "import os\n",
    "import pathlib\n",
    "\n",
    "import pandas as pd\n",
    "import numpy as np\n",
    "\n",
    "import tensorflow as tf\n",
    "from tensorflow import keras"
   ]
  },
  {
   "cell_type": "code",
   "execution_count": 4,
   "metadata": {},
   "outputs": [],
   "source": [
    "np.set_printoptions(precision=4)"
   ]
  },
  {
   "cell_type": "code",
   "execution_count": 5,
   "metadata": {},
   "outputs": [
    {
     "name": "stderr",
     "output_type": "stream",
     "text": [
      "2023-02-09 13:41:01.948713: W tensorflow/stream_executor/platform/default/dso_loader.cc:64] Could not load dynamic library 'libcuda.so.1'; dlerror: libcuda.so.1: cannot open shared object file: No such file or directory\n",
      "2023-02-09 13:41:01.948780: W tensorflow/stream_executor/cuda/cuda_driver.cc:269] failed call to cuInit: UNKNOWN ERROR (303)\n",
      "2023-02-09 13:41:01.948835: I tensorflow/stream_executor/cuda/cuda_diagnostics.cc:156] kernel driver does not appear to be running on this host (mike-HP-EliteBook-Folio-9470m): /proc/driver/nvidia/version does not exist\n"
     ]
    },
    {
     "data": {
      "text/plain": [
       "<TensorSliceDataset element_spec=TensorSpec(shape=(), dtype=tf.int32, name=None)>"
      ]
     },
     "execution_count": 5,
     "metadata": {},
     "output_type": "execute_result"
    }
   ],
   "source": [
    "dataset = tf.data.Dataset.from_tensor_slices([8, 3, 0, 8, 2, 1])\n",
    "dataset"
   ]
  },
  {
   "cell_type": "code",
   "execution_count": 7,
   "metadata": {},
   "outputs": [
    {
     "name": "stdout",
     "output_type": "stream",
     "text": [
      "8\n",
      "3\n",
      "0\n",
      "8\n",
      "2\n",
      "1\n"
     ]
    }
   ],
   "source": [
    "for i in dataset:\n",
    "    print(i.numpy())"
   ]
  },
  {
   "cell_type": "code",
   "execution_count": 8,
   "metadata": {},
   "outputs": [],
   "source": [
    "it = iter(dataset)"
   ]
  },
  {
   "cell_type": "code",
   "execution_count": 10,
   "metadata": {},
   "outputs": [
    {
     "data": {
      "text/plain": [
       "3"
      ]
     },
     "execution_count": 10,
     "metadata": {},
     "output_type": "execute_result"
    }
   ],
   "source": [
    "it.next().numpy()"
   ]
  },
  {
   "cell_type": "code",
   "execution_count": 11,
   "metadata": {},
   "outputs": [
    {
     "data": {
      "text/plain": [
       "0"
      ]
     },
     "execution_count": 11,
     "metadata": {},
     "output_type": "execute_result"
    }
   ],
   "source": [
    "it.next().numpy()"
   ]
  },
  {
   "cell_type": "code",
   "execution_count": 12,
   "metadata": {},
   "outputs": [
    {
     "data": {
      "text/plain": [
       "22"
      ]
     },
     "execution_count": 12,
     "metadata": {},
     "output_type": "execute_result"
    }
   ],
   "source": [
    "# add all the elements in the dataset\n",
    "dataset.reduce(0, lambda state, value: state+value).numpy()"
   ]
  },
  {
   "cell_type": "code",
   "execution_count": 22,
   "metadata": {},
   "outputs": [
    {
     "name": "stdout",
     "output_type": "stream",
     "text": [
      "[0.292  0.2066 0.5354 0.5613 0.4167 0.8078 0.4932 0.9981 0.6967 0.1254]\n",
      "[0.7098 0.6624 0.5723 0.3648 0.4205 0.6301 0.9138 0.6616 0.8335 0.084 ]\n",
      "[0.2798 0.0155 0.7264 0.7655 0.6799 0.5327 0.7565 0.0474 0.0504 0.7517]\n",
      "[0.1727 0.3119 0.2914 0.1005 0.1657 0.7697 0.5857 0.982  0.9148 0.1417]\n"
     ]
    }
   ],
   "source": [
    "tf.random.set_seed(0)\n",
    "dataset1 = tf.data.Dataset.from_tensor_slices(tf.random.uniform([4, 10]))\n",
    "for i in dataset1:\n",
    "    print(i.numpy())"
   ]
  },
  {
   "cell_type": "code",
   "execution_count": 23,
   "metadata": {},
   "outputs": [
    {
     "data": {
      "text/plain": [
       "(TensorSpec(shape=(), dtype=tf.float32, name=None),\n",
       " TensorSpec(shape=(100,), dtype=tf.int32, name=None))"
      ]
     },
     "execution_count": 23,
     "metadata": {},
     "output_type": "execute_result"
    }
   ],
   "source": [
    "dataset2 = tf.data.Dataset.from_tensor_slices(\n",
    "   (tf.random.uniform([4]),\n",
    "    tf.random.uniform([4, 100], maxval=100, dtype=tf.int32)))\n",
    "\n",
    "dataset2.element_spec"
   ]
  },
  {
   "cell_type": "code",
   "execution_count": 26,
   "metadata": {},
   "outputs": [
    {
     "data": {
      "text/plain": [
       "SparseTensorSpec(TensorShape([3, 4]), tf.int32)"
      ]
     },
     "execution_count": 26,
     "metadata": {},
     "output_type": "execute_result"
    }
   ],
   "source": [
    "dataset4 = tf.data.Dataset.from_tensors(tf.SparseTensor(indices=[[0, 0], [1, 2]], values=[1, 2], dense_shape=[3, 4]))\n",
    "dataset4.element_spec"
   ]
  },
  {
   "cell_type": "code",
   "execution_count": 30,
   "metadata": {},
   "outputs": [
    {
     "name": "stdout",
     "output_type": "stream",
     "text": [
      "SparseTensor(indices=tf.Tensor(\n",
      "[[0 0]\n",
      " [1 2]], shape=(2, 2), dtype=int64), values=tf.Tensor([1 2], shape=(2,), dtype=int32), dense_shape=tf.Tensor([3 4], shape=(2,), dtype=int64))\n"
     ]
    }
   ],
   "source": [
    "for i in dataset4:\n",
    "    print(i)"
   ]
  },
  {
   "cell_type": "code",
   "execution_count": 31,
   "metadata": {},
   "outputs": [
    {
     "data": {
      "text/plain": [
       "tensorflow.python.framework.sparse_tensor.SparseTensor"
      ]
     },
     "execution_count": 31,
     "metadata": {},
     "output_type": "execute_result"
    }
   ],
   "source": [
    "dataset4.element_spec.value_type"
   ]
  },
  {
   "cell_type": "code",
   "execution_count": 33,
   "metadata": {},
   "outputs": [
    {
     "data": {
      "text/plain": [
       "tensorflow.python.framework.ops.Tensor"
      ]
     },
     "execution_count": 33,
     "metadata": {},
     "output_type": "execute_result"
    }
   ],
   "source": [
    "dataset1.element_spec.value_type"
   ]
  },
  {
   "cell_type": "code",
   "execution_count": 34,
   "metadata": {},
   "outputs": [
    {
     "data": {
      "text/plain": [
       "(TensorSpec(shape=(), dtype=tf.float32, name=None),\n",
       " TensorSpec(shape=(100,), dtype=tf.int32, name=None))"
      ]
     },
     "execution_count": 34,
     "metadata": {},
     "output_type": "execute_result"
    }
   ],
   "source": [
    "dataset2.element_spec"
   ]
  },
  {
   "cell_type": "code",
   "execution_count": 35,
   "metadata": {},
   "outputs": [
    {
     "data": {
      "text/plain": [
       "<TensorSliceDataset element_spec=(TensorSpec(shape=(), dtype=tf.float32, name=None), TensorSpec(shape=(100,), dtype=tf.int32, name=None))>"
      ]
     },
     "execution_count": 35,
     "metadata": {},
     "output_type": "execute_result"
    }
   ],
   "source": [
    "dataset2 = tf.data.Dataset.from_tensor_slices(\n",
    "   (tf.random.uniform([4]),\n",
    "    tf.random.uniform([4, 100], maxval=100, dtype=tf.int32)))\n",
    "\n",
    "dataset2"
   ]
  },
  {
   "cell_type": "code",
   "execution_count": 38,
   "metadata": {},
   "outputs": [
    {
     "name": "stdout",
     "output_type": "stream",
     "text": [
      "(<tf.Tensor: shape=(10,), dtype=float32, numpy=\n",
      "array([0.292 , 0.2066, 0.5354, 0.5613, 0.4167, 0.8078, 0.4932, 0.9981,\n",
      "       0.6967, 0.1254], dtype=float32)>, (<tf.Tensor: shape=(), dtype=float32, numpy=0.17513537>, <tf.Tensor: shape=(100,), dtype=int32, numpy=\n",
      "array([28, 65, 18,  2, 57, 35, 47, 84, 33, 89, 89, 92, 26, 86, 36,  1, 30,\n",
      "       66, 23, 10, 53, 43, 90, 38, 30, 74, 25, 97, 37, 45, 97, 48, 64, 24,\n",
      "       26, 41, 17, 46,  2, 34, 44, 16, 90, 71, 43, 94, 68, 88, 10, 17, 10,\n",
      "        2, 20, 63, 67, 68, 11, 61, 53, 18, 56, 57, 13, 11, 98, 24, 25, 95,\n",
      "       31, 21, 29, 37, 15, 98, 14, 69, 18, 97, 50, 63, 34, 35, 30, 82, 15,\n",
      "       50, 94, 85, 96,  5, 49, 52, 30, 39, 32, 65, 25, 56, 77, 41],\n",
      "      dtype=int32)>))\n",
      "(<tf.Tensor: shape=(10,), dtype=float32, numpy=\n",
      "array([0.7098, 0.6624, 0.5723, 0.3648, 0.4205, 0.6301, 0.9138, 0.6616,\n",
      "       0.8335, 0.084 ], dtype=float32)>, (<tf.Tensor: shape=(), dtype=float32, numpy=0.3179742>, <tf.Tensor: shape=(100,), dtype=int32, numpy=\n",
      "array([33, 70, 45, 55, 80, 20, 34, 57, 48, 17, 85, 98, 52,  8, 52, 47, 22,\n",
      "       97, 84,  1, 52, 43, 33, 12, 60, 65, 61, 72, 83, 57, 95, 24, 63, 44,\n",
      "       76, 51, 19, 53, 25, 58, 42, 69, 29, 65, 39, 78, 85, 14, 69,  5, 10,\n",
      "        2, 31, 65, 58,  7, 63, 19, 37, 49, 75, 98,  5, 22, 12, 45, 99, 88,\n",
      "       30, 53, 20, 15, 27, 95, 23, 38, 26, 24, 22, 78, 70, 45, 45,  7, 22,\n",
      "       82, 39,  1, 28, 72, 72, 10, 37, 78, 40, 95,  5,  0, 32, 24],\n",
      "      dtype=int32)>))\n",
      "(<tf.Tensor: shape=(10,), dtype=float32, numpy=\n",
      "array([0.2798, 0.0155, 0.7264, 0.7655, 0.6799, 0.5327, 0.7565, 0.0474,\n",
      "       0.0504, 0.7517], dtype=float32)>, (<tf.Tensor: shape=(), dtype=float32, numpy=0.8555474>, <tf.Tensor: shape=(100,), dtype=int32, numpy=\n",
      "array([65, 99, 10, 77, 30, 41, 49, 81, 61, 79, 81, 78, 12, 37, 12, 94, 92,\n",
      "        2, 64, 60, 66, 53, 56, 20, 23, 14, 13, 76, 36, 34, 44, 48, 78, 57,\n",
      "       12, 96, 69, 67, 85, 67, 33, 24, 38, 18, 78, 11, 27, 66, 87, 80, 98,\n",
      "       83, 44, 40, 14, 24, 48, 10, 30, 30, 87, 52, 92, 54, 46, 72, 92, 19,\n",
      "        5, 43,  3, 71, 52,  4, 46, 35, 71, 78, 10, 45, 24, 44, 52, 49, 16,\n",
      "       26, 50, 86, 75, 68, 52, 68,  9, 82, 45, 59, 39, 75, 56, 42],\n",
      "      dtype=int32)>))\n",
      "(<tf.Tensor: shape=(10,), dtype=float32, numpy=\n",
      "array([0.1727, 0.3119, 0.2914, 0.1005, 0.1657, 0.7697, 0.5857, 0.982 ,\n",
      "       0.9148, 0.1417], dtype=float32)>, (<tf.Tensor: shape=(), dtype=float32, numpy=0.41725898>, <tf.Tensor: shape=(100,), dtype=int32, numpy=\n",
      "array([46, 40, 42, 91, 32, 14, 80, 13, 56, 82, 37, 31, 77, 33, 84, 13, 87,\n",
      "       90, 17, 35, 53, 13, 88, 10, 78, 50, 94, 56, 74, 66, 11, 10, 76, 96,\n",
      "       51, 91, 69, 19, 45, 30, 14, 61, 17, 98, 36, 47, 93, 69,  5, 27, 46,\n",
      "       68,  1, 99, 95, 66, 97, 21,  1, 83, 51, 92, 76, 17, 16, 40, 58, 56,\n",
      "       45, 10, 42, 24, 74, 59, 98, 25, 24, 39, 30, 29, 62, 61, 77, 56, 28,\n",
      "       10, 45, 92, 23, 10, 52, 30, 84, 55, 87,  0, 66, 90, 59, 33],\n",
      "      dtype=int32)>))\n"
     ]
    }
   ],
   "source": [
    "dataset3 = tf.data.Dataset.zip((dataset1, dataset2))\n",
    "\n",
    "for elem in dataset3:\n",
    "    print(elem)"
   ]
  },
  {
   "cell_type": "code",
   "execution_count": 40,
   "metadata": {},
   "outputs": [
    {
     "data": {
      "text/plain": [
       "(TensorSpec(shape=(), dtype=tf.float32, name=None),\n",
       " TensorSpec(shape=(100,), dtype=tf.int32, name=None))"
      ]
     },
     "execution_count": 40,
     "metadata": {},
     "output_type": "execute_result"
    }
   ],
   "source": [
    "dataset2.element_spec"
   ]
  },
  {
   "cell_type": "code",
   "execution_count": 42,
   "metadata": {},
   "outputs": [
    {
     "name": "stdout",
     "output_type": "stream",
     "text": [
      "tf.Tensor([0.292  0.2066 0.5354 0.5613 0.4167 0.8078 0.4932 0.9981 0.6967 0.1254], shape=(10,), dtype=float32) tf.Tensor(0.17513537, shape=(), dtype=float32) tf.Tensor(\n",
      "[28 65 18  2 57 35 47 84 33 89 89 92 26 86 36  1 30 66 23 10 53 43 90 38\n",
      " 30 74 25 97 37 45 97 48 64 24 26 41 17 46  2 34 44 16 90 71 43 94 68 88\n",
      " 10 17 10  2 20 63 67 68 11 61 53 18 56 57 13 11 98 24 25 95 31 21 29 37\n",
      " 15 98 14 69 18 97 50 63 34 35 30 82 15 50 94 85 96  5 49 52 30 39 32 65\n",
      " 25 56 77 41], shape=(100,), dtype=int32)\n",
      "tf.Tensor([0.7098 0.6624 0.5723 0.3648 0.4205 0.6301 0.9138 0.6616 0.8335 0.084 ], shape=(10,), dtype=float32) tf.Tensor(0.3179742, shape=(), dtype=float32) tf.Tensor(\n",
      "[33 70 45 55 80 20 34 57 48 17 85 98 52  8 52 47 22 97 84  1 52 43 33 12\n",
      " 60 65 61 72 83 57 95 24 63 44 76 51 19 53 25 58 42 69 29 65 39 78 85 14\n",
      " 69  5 10  2 31 65 58  7 63 19 37 49 75 98  5 22 12 45 99 88 30 53 20 15\n",
      " 27 95 23 38 26 24 22 78 70 45 45  7 22 82 39  1 28 72 72 10 37 78 40 95\n",
      "  5  0 32 24], shape=(100,), dtype=int32)\n",
      "tf.Tensor([0.2798 0.0155 0.7264 0.7655 0.6799 0.5327 0.7565 0.0474 0.0504 0.7517], shape=(10,), dtype=float32) tf.Tensor(0.8555474, shape=(), dtype=float32) tf.Tensor(\n",
      "[65 99 10 77 30 41 49 81 61 79 81 78 12 37 12 94 92  2 64 60 66 53 56 20\n",
      " 23 14 13 76 36 34 44 48 78 57 12 96 69 67 85 67 33 24 38 18 78 11 27 66\n",
      " 87 80 98 83 44 40 14 24 48 10 30 30 87 52 92 54 46 72 92 19  5 43  3 71\n",
      " 52  4 46 35 71 78 10 45 24 44 52 49 16 26 50 86 75 68 52 68  9 82 45 59\n",
      " 39 75 56 42], shape=(100,), dtype=int32)\n",
      "tf.Tensor([0.1727 0.3119 0.2914 0.1005 0.1657 0.7697 0.5857 0.982  0.9148 0.1417], shape=(10,), dtype=float32) tf.Tensor(0.41725898, shape=(), dtype=float32) tf.Tensor(\n",
      "[46 40 42 91 32 14 80 13 56 82 37 31 77 33 84 13 87 90 17 35 53 13 88 10\n",
      " 78 50 94 56 74 66 11 10 76 96 51 91 69 19 45 30 14 61 17 98 36 47 93 69\n",
      "  5 27 46 68  1 99 95 66 97 21  1 83 51 92 76 17 16 40 58 56 45 10 42 24\n",
      " 74 59 98 25 24 39 30 29 62 61 77 56 28 10 45 92 23 10 52 30 84 55 87  0\n",
      " 66 90 59 33], shape=(100,), dtype=int32)\n"
     ]
    }
   ],
   "source": [
    "for a,(b,c) in dataset3:\n",
    "    print(a,b,c)"
   ]
  },
  {
   "cell_type": "code",
   "execution_count": 43,
   "metadata": {},
   "outputs": [],
   "source": [
    "train, test = tf.keras.datasets.fashion_mnist.load_data()"
   ]
  },
  {
   "cell_type": "code",
   "execution_count": 45,
   "metadata": {},
   "outputs": [],
   "source": [
    "images, labels = train"
   ]
  },
  {
   "cell_type": "code",
   "execution_count": 48,
   "metadata": {},
   "outputs": [
    {
     "data": {
      "text/plain": [
       "(60000, 28, 28)"
      ]
     },
     "execution_count": 48,
     "metadata": {},
     "output_type": "execute_result"
    }
   ],
   "source": [
    "images.shape"
   ]
  },
  {
   "cell_type": "code",
   "execution_count": 51,
   "metadata": {},
   "outputs": [
    {
     "data": {
      "text/plain": [
       "(255, 0)"
      ]
     },
     "execution_count": 51,
     "metadata": {},
     "output_type": "execute_result"
    }
   ],
   "source": [
    "images.max(), images.min()"
   ]
  },
  {
   "cell_type": "code",
   "execution_count": 54,
   "metadata": {},
   "outputs": [
    {
     "data": {
      "text/plain": [
       "tuple"
      ]
     },
     "execution_count": 54,
     "metadata": {},
     "output_type": "execute_result"
    }
   ],
   "source": [
    "type(train)"
   ]
  },
  {
   "cell_type": "code",
   "execution_count": 56,
   "metadata": {},
   "outputs": [
    {
     "data": {
      "text/plain": [
       "(0.00392156862745098, 0.0)"
      ]
     },
     "execution_count": 56,
     "metadata": {},
     "output_type": "execute_result"
    }
   ],
   "source": [
    "images = images/255.0\n",
    "images.max(), images.min()"
   ]
  },
  {
   "cell_type": "code",
   "execution_count": 58,
   "metadata": {},
   "outputs": [
    {
     "name": "stderr",
     "output_type": "stream",
     "text": [
      "2023-02-09 14:00:01.284511: W tensorflow/core/framework/cpu_allocator_impl.cc:82] Allocation of 376320000 exceeds 10% of free system memory.\n"
     ]
    }
   ],
   "source": [
    "dataset = tf.data.Dataset.from_tensor_slices((images, labels))"
   ]
  },
  {
   "cell_type": "code",
   "execution_count": 60,
   "metadata": {},
   "outputs": [
    {
     "data": {
      "text/plain": [
       "(TensorSpec(shape=(28, 28), dtype=tf.float64, name=None),\n",
       " TensorSpec(shape=(), dtype=tf.uint8, name=None))"
      ]
     },
     "execution_count": 60,
     "metadata": {},
     "output_type": "execute_result"
    }
   ],
   "source": [
    "dataset.element_spec"
   ]
  },
  {
   "cell_type": "code",
   "execution_count": 61,
   "metadata": {},
   "outputs": [],
   "source": [
    "def count(stop):\n",
    "    i=0\n",
    "    while i<stop:\n",
    "        yield i\n",
    "        i+=1"
   ]
  },
  {
   "cell_type": "code",
   "execution_count": 65,
   "metadata": {},
   "outputs": [
    {
     "name": "stdout",
     "output_type": "stream",
     "text": [
      "0\n",
      "1\n",
      "2\n",
      "3\n",
      "4\n"
     ]
    }
   ],
   "source": [
    "for n in count(5):\n",
    "    print(n)"
   ]
  },
  {
   "cell_type": "code",
   "execution_count": 67,
   "metadata": {},
   "outputs": [
    {
     "data": {
      "text/plain": [
       "generator"
      ]
     },
     "execution_count": 67,
     "metadata": {},
     "output_type": "execute_result"
    }
   ],
   "source": [
    "type(count(5))"
   ]
  },
  {
   "cell_type": "code",
   "execution_count": 75,
   "metadata": {},
   "outputs": [],
   "source": [
    "# ds_counter = tf.data.Dataset.from_generator(count, args=[25], output_types=tf.int32, output_shapes = (5,5), ) # testing the shape paramete\n",
    "ds_counter = tf.data.Dataset.from_generator(count, args=[25], output_types=tf.int32, output_shapes = (), )"
   ]
  },
  {
   "cell_type": "code",
   "execution_count": 76,
   "metadata": {},
   "outputs": [
    {
     "data": {
      "text/plain": [
       "tensorflow.python.framework.ops.Tensor"
      ]
     },
     "execution_count": 76,
     "metadata": {},
     "output_type": "execute_result"
    }
   ],
   "source": [
    "ds_counter.element_spec.value_type"
   ]
  },
  {
   "cell_type": "code",
   "execution_count": 77,
   "metadata": {},
   "outputs": [
    {
     "name": "stdout",
     "output_type": "stream",
     "text": [
      "[0 1 2 3 4 5 6 7 8 9]\n",
      "[10 11 12 13 14 15 16 17 18 19]\n",
      "[20 21 22 23 24  0  1  2  3  4]\n",
      "[ 5  6  7  8  9 10 11 12 13 14]\n",
      "[15 16 17 18 19 20 21 22 23 24]\n",
      "[0 1 2 3 4 5 6 7 8 9]\n",
      "[10 11 12 13 14 15 16 17 18 19]\n",
      "[20 21 22 23 24  0  1  2  3  4]\n",
      "[ 5  6  7  8  9 10 11 12 13 14]\n",
      "[15 16 17 18 19 20 21 22 23 24]\n"
     ]
    }
   ],
   "source": [
    "for count_batch in ds_counter.repeat().batch(10).take(10):\n",
    "  print(count_batch.numpy())"
   ]
  },
  {
   "cell_type": "code",
   "execution_count": 78,
   "metadata": {},
   "outputs": [],
   "source": [
    "def gen_series():\n",
    "  i = 0\n",
    "  while True:\n",
    "    size = np.random.randint(0, 10)\n",
    "    yield i, np.random.normal(size=(size,))\n",
    "    i += 1"
   ]
  },
  {
   "cell_type": "code",
   "execution_count": 79,
   "metadata": {},
   "outputs": [
    {
     "name": "stdout",
     "output_type": "stream",
     "text": [
      "0 : [-0.6346  0.9886  1.1412]\n",
      "1 : [-0.1763 -0.8237 -0.2334]\n",
      "2 : [ 1.409  -1.7412  0.3004 -1.9827  1.0813 -0.9573  0.6176  1.0134]\n",
      "3 : [ 0.3309  0.788  -0.8567  0.3214 -0.181 ]\n",
      "4 : []\n",
      "5 : [-0.6726  1.729  -1.5526 -0.4692  2.0061 -0.7966  0.0509  1.4406 -0.6729]\n",
      "6 : [ 4.9721e-01  7.9137e-04  5.8198e-02  2.2091e+00  5.6276e-01 -1.1325e+00\n",
      "  6.6120e-01 -4.8522e-02  4.8753e-01]\n"
     ]
    }
   ],
   "source": [
    "for i, series in gen_series():\n",
    "  print(i, \":\", str(series))\n",
    "  if i > 5:\n",
    "    break"
   ]
  },
  {
   "cell_type": "code",
   "execution_count": 86,
   "metadata": {},
   "outputs": [
    {
     "name": "stdout",
     "output_type": "stream",
     "text": [
      "[[0.292  0.2066 0.5354 0.5613 0.4167 0.8078 0.4932 0.9981 0.6967 0.1254]\n",
      " [0.7098 0.6624 0.5723 0.3648 0.4205 0.6301 0.9138 0.6616 0.8335 0.084 ]\n",
      " [0.2798 0.0155 0.7264 0.7655 0.6799 0.5327 0.7565 0.0474 0.0504 0.7517]\n",
      " [0.1727 0.3119 0.2914 0.1005 0.1657 0.7697 0.5857 0.982  0.9148 0.1417]\n",
      " [0.292  0.2066 0.5354 0.5613 0.4167 0.8078 0.4932 0.9981 0.6967 0.1254]\n",
      " [0.7098 0.6624 0.5723 0.3648 0.4205 0.6301 0.9138 0.6616 0.8335 0.084 ]\n",
      " [0.2798 0.0155 0.7264 0.7655 0.6799 0.5327 0.7565 0.0474 0.0504 0.7517]\n",
      " [0.1727 0.3119 0.2914 0.1005 0.1657 0.7697 0.5857 0.982  0.9148 0.1417]\n",
      " [0.292  0.2066 0.5354 0.5613 0.4167 0.8078 0.4932 0.9981 0.6967 0.1254]\n",
      " [0.7098 0.6624 0.5723 0.3648 0.4205 0.6301 0.9138 0.6616 0.8335 0.084 ]]\n",
      "[[0.2798 0.0155 0.7264 0.7655 0.6799 0.5327 0.7565 0.0474 0.0504 0.7517]\n",
      " [0.1727 0.3119 0.2914 0.1005 0.1657 0.7697 0.5857 0.982  0.9148 0.1417]\n",
      " [0.292  0.2066 0.5354 0.5613 0.4167 0.8078 0.4932 0.9981 0.6967 0.1254]\n",
      " [0.7098 0.6624 0.5723 0.3648 0.4205 0.6301 0.9138 0.6616 0.8335 0.084 ]\n",
      " [0.2798 0.0155 0.7264 0.7655 0.6799 0.5327 0.7565 0.0474 0.0504 0.7517]\n",
      " [0.1727 0.3119 0.2914 0.1005 0.1657 0.7697 0.5857 0.982  0.9148 0.1417]\n",
      " [0.292  0.2066 0.5354 0.5613 0.4167 0.8078 0.4932 0.9981 0.6967 0.1254]\n",
      " [0.7098 0.6624 0.5723 0.3648 0.4205 0.6301 0.9138 0.6616 0.8335 0.084 ]\n",
      " [0.2798 0.0155 0.7264 0.7655 0.6799 0.5327 0.7565 0.0474 0.0504 0.7517]\n",
      " [0.1727 0.3119 0.2914 0.1005 0.1657 0.7697 0.5857 0.982  0.9148 0.1417]]\n",
      "[[0.292  0.2066 0.5354 0.5613 0.4167 0.8078 0.4932 0.9981 0.6967 0.1254]\n",
      " [0.7098 0.6624 0.5723 0.3648 0.4205 0.6301 0.9138 0.6616 0.8335 0.084 ]\n",
      " [0.2798 0.0155 0.7264 0.7655 0.6799 0.5327 0.7565 0.0474 0.0504 0.7517]\n",
      " [0.1727 0.3119 0.2914 0.1005 0.1657 0.7697 0.5857 0.982  0.9148 0.1417]\n",
      " [0.292  0.2066 0.5354 0.5613 0.4167 0.8078 0.4932 0.9981 0.6967 0.1254]\n",
      " [0.7098 0.6624 0.5723 0.3648 0.4205 0.6301 0.9138 0.6616 0.8335 0.084 ]\n",
      " [0.2798 0.0155 0.7264 0.7655 0.6799 0.5327 0.7565 0.0474 0.0504 0.7517]\n",
      " [0.1727 0.3119 0.2914 0.1005 0.1657 0.7697 0.5857 0.982  0.9148 0.1417]\n",
      " [0.292  0.2066 0.5354 0.5613 0.4167 0.8078 0.4932 0.9981 0.6967 0.1254]\n",
      " [0.7098 0.6624 0.5723 0.3648 0.4205 0.6301 0.9138 0.6616 0.8335 0.084 ]]\n",
      "[[0.2798 0.0155 0.7264 0.7655 0.6799 0.5327 0.7565 0.0474 0.0504 0.7517]\n",
      " [0.1727 0.3119 0.2914 0.1005 0.1657 0.7697 0.5857 0.982  0.9148 0.1417]\n",
      " [0.292  0.2066 0.5354 0.5613 0.4167 0.8078 0.4932 0.9981 0.6967 0.1254]\n",
      " [0.7098 0.6624 0.5723 0.3648 0.4205 0.6301 0.9138 0.6616 0.8335 0.084 ]\n",
      " [0.2798 0.0155 0.7264 0.7655 0.6799 0.5327 0.7565 0.0474 0.0504 0.7517]\n",
      " [0.1727 0.3119 0.2914 0.1005 0.1657 0.7697 0.5857 0.982  0.9148 0.1417]\n",
      " [0.292  0.2066 0.5354 0.5613 0.4167 0.8078 0.4932 0.9981 0.6967 0.1254]\n",
      " [0.7098 0.6624 0.5723 0.3648 0.4205 0.6301 0.9138 0.6616 0.8335 0.084 ]\n",
      " [0.2798 0.0155 0.7264 0.7655 0.6799 0.5327 0.7565 0.0474 0.0504 0.7517]\n",
      " [0.1727 0.3119 0.2914 0.1005 0.1657 0.7697 0.5857 0.982  0.9148 0.1417]]\n"
     ]
    }
   ],
   "source": [
    "for elem in dataset1.repeat(10).batch(10).take(10):\n",
    "    print(elem.numpy())"
   ]
  },
  {
   "cell_type": "code",
   "execution_count": 88,
   "metadata": {},
   "outputs": [
    {
     "data": {
      "text/plain": [
       "<FlatMapDataset element_spec=(TensorSpec(shape=(), dtype=tf.int32, name=None), TensorSpec(shape=(None,), dtype=tf.float32, name=None))>"
      ]
     },
     "execution_count": 88,
     "metadata": {},
     "output_type": "execute_result"
    }
   ],
   "source": [
    "ds_series = tf.data.Dataset.from_generator(\n",
    "    gen_series, \n",
    "    output_types=(tf.int32, tf.float32), \n",
    "    output_shapes=((), (None,)))\n",
    "\n",
    "ds_series"
   ]
  },
  {
   "cell_type": "code",
   "execution_count": 92,
   "metadata": {},
   "outputs": [],
   "source": [
    "# for i,j in ds_series:\n",
    "#     print(i.numpy(),j.numpy())\n",
    "#     break"
   ]
  },
  {
   "cell_type": "code",
   "execution_count": 93,
   "metadata": {},
   "outputs": [
    {
     "name": "stdout",
     "output_type": "stream",
     "text": [
      "[17  9 14 15  1 12  0 10 18 11]\n",
      "\n",
      "[[ 8.2476e-02  1.0103e+00 -1.2161e-01  7.6258e-01  1.9050e-01  3.2723e-01\n",
      "   6.6298e-01  1.4014e+00  1.0289e+00]\n",
      " [ 5.2077e-01 -2.3660e-01  5.6734e-01  5.5744e-01 -2.2658e-01  0.0000e+00\n",
      "   0.0000e+00  0.0000e+00  0.0000e+00]\n",
      " [-1.1573e+00  1.0806e+00 -1.1895e+00  5.0640e-01 -4.8898e-01  3.9813e-01\n",
      "   4.6938e-01  0.0000e+00  0.0000e+00]\n",
      " [-3.1646e-01  8.5929e-01 -2.1756e-02  1.6715e-01 -5.1770e-01 -1.8004e+00\n",
      "  -2.4158e-01 -1.2045e+00  0.0000e+00]\n",
      " [ 1.0936e+00  1.1063e+00  7.6926e-01  6.1839e-02 -1.5312e+00 -1.7193e+00\n",
      "   0.0000e+00  0.0000e+00  0.0000e+00]\n",
      " [ 3.9760e-01  5.5510e-01  1.4184e-01  0.0000e+00  0.0000e+00  0.0000e+00\n",
      "   0.0000e+00  0.0000e+00  0.0000e+00]\n",
      " [-5.4871e-01  2.6501e+00 -2.5763e-03  0.0000e+00  0.0000e+00  0.0000e+00\n",
      "   0.0000e+00  0.0000e+00  0.0000e+00]\n",
      " [-1.2966e+00  1.3072e-01 -1.1018e+00  0.0000e+00  0.0000e+00  0.0000e+00\n",
      "   0.0000e+00  0.0000e+00  0.0000e+00]\n",
      " [-3.4758e-01  0.0000e+00  0.0000e+00  0.0000e+00  0.0000e+00  0.0000e+00\n",
      "   0.0000e+00  0.0000e+00  0.0000e+00]\n",
      " [-3.6291e-01 -1.1707e+00  0.0000e+00  0.0000e+00  0.0000e+00  0.0000e+00\n",
      "   0.0000e+00  0.0000e+00  0.0000e+00]]\n"
     ]
    }
   ],
   "source": [
    "ds_series_batch = ds_series.shuffle(20).padded_batch(10)\n",
    "ids, sequence_batch = next(iter(ds_series_batch))\n",
    "print(ids.numpy())\n",
    "print()\n",
    "print(sequence_batch.numpy())"
   ]
  },
  {
   "cell_type": "code",
   "execution_count": 95,
   "metadata": {},
   "outputs": [],
   "source": [
    "# flowers = tf.keras.utils.get_file(\n",
    "#     'dataset',\n",
    "#     '/home/mike/Downloads/archive(32).zip',\n",
    "#     untar=True)"
   ]
  },
  {
   "cell_type": "code",
   "execution_count": 96,
   "metadata": {},
   "outputs": [],
   "source": [
    "img_gen = tf.keras.preprocessing.image.ImageDataGenerator(rescale=1./255, rotation_range=20)"
   ]
  },
  {
   "cell_type": "code",
   "execution_count": 103,
   "metadata": {},
   "outputs": [
    {
     "name": "stdout",
     "output_type": "stream",
     "text": [
      "Found 6552 images belonging to 102 classes.\n"
     ]
    }
   ],
   "source": [
    "images, labels = next(img_gen.flow_from_directory(\"/home/mike/Downloads/archive(32)/dataset/train\"))"
   ]
  },
  {
   "cell_type": "code",
   "execution_count": 115,
   "metadata": {},
   "outputs": [],
   "source": [
    "# names = pd.read_json(\"/home/mike/Downloads/archive(32)/cat_to_name.json\")"
   ]
  },
  {
   "cell_type": "code",
   "execution_count": 105,
   "metadata": {},
   "outputs": [
    {
     "data": {
      "text/plain": [
       "((32, 256, 256, 3), (32, 102))"
      ]
     },
     "execution_count": 105,
     "metadata": {},
     "output_type": "execute_result"
    }
   ],
   "source": [
    "images.shape, labels.shape"
   ]
  },
  {
   "cell_type": "code",
   "execution_count": 106,
   "metadata": {},
   "outputs": [
    {
     "data": {
      "text/plain": [
       "array([0., 0., 0., 0., 0., 0., 0., 0., 0., 0., 0., 0., 0., 0., 0., 0., 0.,\n",
       "       0., 0., 0., 0., 0., 0., 0., 0., 0., 0., 0., 0., 0., 0., 0., 0., 0.,\n",
       "       0., 0., 0., 0., 0., 0., 0., 0., 0., 0., 0., 0., 0., 0., 0., 0., 0.,\n",
       "       0., 0., 0., 0., 0., 0., 0., 0., 0., 0., 0., 0., 0., 0., 0., 0., 0.,\n",
       "       0., 0., 0., 0., 0., 0., 0., 0., 0., 0., 0., 0., 0., 0., 0., 0., 0.,\n",
       "       0., 0., 0., 0., 0., 1., 0., 0., 0., 0., 0., 0., 0., 0., 0., 0., 0.],\n",
       "      dtype=float32)"
      ]
     },
     "execution_count": 106,
     "metadata": {},
     "output_type": "execute_result"
    }
   ],
   "source": [
    "labels[0]"
   ]
  },
  {
   "cell_type": "code",
   "execution_count": 107,
   "metadata": {},
   "outputs": [
    {
     "name": "stdout",
     "output_type": "stream",
     "text": [
      "float32 (32, 256, 256, 3)\n",
      "float32 (32, 102)\n"
     ]
    }
   ],
   "source": [
    "print(images.dtype, images.shape)\n",
    "print(labels.dtype, labels.shape)"
   ]
  },
  {
   "cell_type": "code",
   "execution_count": 112,
   "metadata": {},
   "outputs": [
    {
     "data": {
      "text/plain": [
       "(TensorSpec(shape=(32, 256, 256, 3), dtype=tf.float32, name=None),\n",
       " TensorSpec(shape=(32, 102), dtype=tf.float32, name=None))"
      ]
     },
     "execution_count": 112,
     "metadata": {},
     "output_type": "execute_result"
    }
   ],
   "source": [
    "ds = tf.data.Dataset.from_generator(\n",
    "    lambda: img_gen.flow_from_directory(\"/home/mike/Downloads/archive(32)/dataset/train\"), \n",
    "    output_types=(tf.float32, tf.float32), \n",
    "    output_shapes=([32,256,256,3], [32,102])\n",
    ")\n",
    "\n",
    "ds.element_spec"
   ]
  },
  {
   "cell_type": "code",
   "execution_count": 113,
   "metadata": {},
   "outputs": [
    {
     "name": "stdout",
     "output_type": "stream",
     "text": [
      "Found 6552 images belonging to 102 classes.\n",
      "images.shape:  (32, 256, 256, 3)\n",
      "labels.shape:  (32, 102)\n"
     ]
    },
    {
     "name": "stderr",
     "output_type": "stream",
     "text": [
      "2023-02-09 14:29:35.178314: W tensorflow/core/framework/cpu_allocator_impl.cc:82] Allocation of 25165824 exceeds 10% of free system memory.\n"
     ]
    }
   ],
   "source": [
    "for images, labels in ds.take(1):\n",
    "  print('images.shape: ', images.shape)\n",
    "  print('labels.shape: ', labels.shape)\n"
   ]
  },
  {
   "cell_type": "code",
   "execution_count": 116,
   "metadata": {},
   "outputs": [],
   "source": [
    "dataset = tf.data.TextLineDataset(\"/home/mike/Downloads/archive(37) (1)/data/texts\")"
   ]
  },
  {
   "cell_type": "code",
   "execution_count": 121,
   "metadata": {},
   "outputs": [
    {
     "data": {
      "text/plain": [
       "tensorflow.python.framework.ops.Tensor"
      ]
     },
     "execution_count": 121,
     "metadata": {},
     "output_type": "execute_result"
    }
   ],
   "source": [
    "dataset.element_spec.value_type"
   ]
  },
  {
   "cell_type": "code",
   "execution_count": 123,
   "metadata": {},
   "outputs": [
    {
     "data": {
      "text/plain": [
       "tensorflow.python.data.ops.readers.TextLineDatasetV2"
      ]
     },
     "execution_count": 123,
     "metadata": {},
     "output_type": "execute_result"
    }
   ],
   "source": [
    "type(dataset)"
   ]
  },
  {
   "cell_type": "code",
   "execution_count": 127,
   "metadata": {},
   "outputs": [],
   "source": [
    "# for line in dataset.take(5):\n",
    "#   print(line.numpy())"
   ]
  },
  {
   "cell_type": "code",
   "execution_count": 129,
   "metadata": {},
   "outputs": [],
   "source": [
    "# files_ds = tf.data.Dataset.from_tensor_slices(\"/home/mike/Downloads/archive(32)/dataset/train\")\n",
    "# lines_ds = files_ds.interleave(tf.data.TextLineDataset, cycle_length=3)"
   ]
  },
  {
   "cell_type": "code",
   "execution_count": 130,
   "metadata": {},
   "outputs": [],
   "source": [
    "emails = tf.data.TextLineDataset(\"/home/mike/Downloads/spam detection/SPAM text message 20170820 - Data.csv\")"
   ]
  },
  {
   "cell_type": "code",
   "execution_count": 132,
   "metadata": {},
   "outputs": [
    {
     "name": "stdout",
     "output_type": "stream",
     "text": [
      "b'Category,Message'\n",
      "b'ham,\"Go until jurong point, crazy.. Available only in bugis n great world la e buffet... Cine there got amore wat...\"'\n",
      "b'ham,Ok lar... Joking wif u oni...'\n",
      "b\"spam,Free entry in 2 a wkly comp to win FA Cup final tkts 21st May 2005. Text FA to 87121 to receive entry question(std txt rate)T&C's apply 08452810075over18's\"\n",
      "b'ham,U dun say so early hor... U c already then say...'\n",
      "b'ham,\"Nah I don\\'t think he goes to usf, he lives around here though\"'\n",
      "b'spam,\"FreeMsg Hey there darling it\\'s been 3 week\\'s now and no word back! I\\'d like some fun you up for it still? Tb ok! XxX std chgs to send, \\xc2\\xa31.50 to rcv\"'\n",
      "b'ham,Even my brother is not like to speak with me. They treat me like aids patent.'\n",
      "b\"ham,As per your request 'Melle Melle (Oru Minnaminunginte Nurungu Vettam)' has been set as your callertune for all Callers. Press *9 to copy your friends Callertune\"\n",
      "b'spam,WINNER!! As a valued network customer you have been selected to receivea \\xc2\\xa3900 prize reward! To claim call 09061701461. Claim code KL341. Valid 12 hours only.'\n"
     ]
    }
   ],
   "source": [
    "for line in emails.take(10):\n",
    "    print(line.numpy())"
   ]
  },
  {
   "cell_type": "code",
   "execution_count": null,
   "metadata": {},
   "outputs": [],
   "source": []
  }
 ],
 "metadata": {
  "kernelspec": {
   "display_name": "Python 3",
   "language": "python",
   "name": "python3"
  },
  "language_info": {
   "codemirror_mode": {
    "name": "ipython",
    "version": 3
   },
   "file_extension": ".py",
   "mimetype": "text/x-python",
   "name": "python",
   "nbconvert_exporter": "python",
   "pygments_lexer": "ipython3",
   "version": "3.7.6"
  }
 },
 "nbformat": 4,
 "nbformat_minor": 5
}
