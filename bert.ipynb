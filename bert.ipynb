{
 "cells": [
  {
   "cell_type": "code",
   "execution_count": 7,
   "id": "444cee31",
   "metadata": {},
   "outputs": [],
   "source": [
    "import tensorflow as tf\n",
    "import tensorflow_hub as hub\n",
    "import warnings\n",
    "\n",
    "# warnings.filter()"
   ]
  },
  {
   "cell_type": "code",
   "execution_count": 8,
   "id": "4265392f",
   "metadata": {},
   "outputs": [
    {
     "name": "stdout",
     "output_type": "stream",
     "text": [
      "\n",
      "Sentences:\n",
      "[\"Here We Go Then, You And I is a 1999 album by Norwegian pop artist Morten Abel. It was Abel's second CD as a solo artist.\", 'The album went straight to number one on the Norwegian album chart, and sold to double platinum.', 'Ceylon spinach is a common name for several plants and may refer to: Basella alba Talinum fruticosum', 'A solar eclipse occurs when the Moon passes between Earth and the Sun, thereby totally or partly obscuring the image of the Sun for a viewer on Earth.', \"A partial solar eclipse occurs in the polar regions of the Earth when the center of the Moon's shadow misses the Earth.\"]\n",
      "\n",
      "Pooled output:\n",
      "tf.Tensor(\n",
      "[[-5.7254791e-01  1.9465704e-01  3.9959091e-01 ...  8.1452900e-01\n",
      "  -8.2899553e-01 -4.8236832e-01]\n",
      " [ 2.4967964e-01  5.9453046e-01  5.2412517e-02 ...  4.8331121e-01\n",
      "  -6.2177128e-01 -1.0117818e-01]\n",
      " [-4.5478493e-02  6.4704698e-01  1.6987492e-01 ...  8.6458796e-01\n",
      "  -7.7583915e-01 -7.3522322e-02]\n",
      " [ 3.0682999e-01  2.9057500e-01 -6.7763917e-02 ...  6.5365124e-01\n",
      "  -6.2018847e-01 -1.3292670e-01]\n",
      " [-1.3636735e-01  4.0657932e-01  7.6455530e-05 ...  8.9919388e-01\n",
      "  -6.3883072e-01  5.0814801e-01]], shape=(5, 256), dtype=float32)\n",
      "\n",
      "Sequence output:\n",
      "tf.Tensor(\n",
      "[[[-6.51305139e-01  1.97173104e-01  4.23162043e-01 ...  1.14034128e+00\n",
      "   -1.18491638e+00 -5.26066184e-01]\n",
      "  [-5.33896387e-01 -1.33612359e+00 -6.00646675e-01 ... -1.31376952e-01\n",
      "   -1.63535869e+00  2.68127531e-01]\n",
      "  [-4.67966020e-01  1.00178182e-01 -7.08638191e-01 ... -5.79182565e-01\n",
      "   -5.64017415e-01  4.12297785e-01]\n",
      "  ...\n",
      "  [ 4.49147731e-01  1.31464928e-01 -3.28022949e-02 ... -4.12482798e-01\n",
      "   -4.43876207e-01 -6.99156344e-01]\n",
      "  [ 5.01909435e-01  2.25501552e-01  1.13074720e-01 ... -3.90683174e-01\n",
      "   -5.02406716e-01 -7.42524147e-01]\n",
      "  [ 4.54771757e-01  1.97450861e-01  1.78488553e-01 ... -3.88777018e-01\n",
      "   -5.82029462e-01 -8.34517598e-01]]\n",
      "\n",
      " [[ 2.55071133e-01  6.84644282e-01  5.24605960e-02 ...  5.27295768e-01\n",
      "   -7.27887571e-01 -1.01525575e-01]\n",
      "  [ 2.32167467e-01  1.40546978e-01 -4.19200152e-01 ... -3.20724517e-01\n",
      "   -4.32940125e-01 -5.45869112e-01]\n",
      "  [-1.23737603e-01 -3.58567417e-01 -4.82293457e-01 ...  2.99984008e-01\n",
      "    9.23124611e-01 -2.30476290e-01]\n",
      "  ...\n",
      "  [ 6.71229064e-01  3.02965760e-01  6.00309260e-02 ... -3.68208796e-01\n",
      "   -2.77368277e-01 -3.86038810e-01]\n",
      "  [ 5.10865986e-01  1.69248641e-01  8.19481909e-02 ... -3.35396230e-01\n",
      "   -4.33592677e-01 -5.66044092e-01]\n",
      "  [ 5.85967660e-01  2.73102582e-01  7.47929662e-02 ... -4.43574458e-01\n",
      "   -3.76366079e-01 -6.17670715e-01]]\n",
      "\n",
      " [[-4.55098897e-02  7.70202041e-01  1.71537876e-01 ...  1.31123662e+00\n",
      "   -1.03483200e+00 -7.36552328e-02]\n",
      "  [ 3.39366943e-01 -8.28021765e-01 -6.72564745e-01 ...  3.82191986e-01\n",
      "   -8.84645462e-01  2.86037456e-02]\n",
      "  [ 5.35987973e-01 -9.91184190e-02 -5.02620526e-02 ...  2.43396133e-01\n",
      "   -2.87166834e-01 -2.08449781e-01]\n",
      "  ...\n",
      "  [ 6.17190421e-01  2.65768051e-01  1.58384174e-01 ... -3.78390372e-01\n",
      "   -3.30652386e-01 -4.40317541e-01]\n",
      "  [ 6.29270554e-01  2.72890240e-01  2.45292112e-01 ... -3.38561952e-01\n",
      "   -2.39716306e-01 -4.87368107e-01]\n",
      "  [ 8.02732289e-01  9.94281620e-02  1.29610255e-01 ... -4.14599776e-01\n",
      "   -1.85184628e-01 -3.86598915e-01]]\n",
      "\n",
      " [[ 3.17042202e-01  2.99194187e-01 -6.78679273e-02 ...  7.81647265e-01\n",
      "   -7.25311220e-01 -1.33718044e-01]\n",
      "  [ 2.92290039e-02 -6.05383217e-01  1.62155181e-03 ...  2.14334548e-01\n",
      "   -1.07719409e+00  7.46603191e-01]\n",
      "  [ 4.12055433e-01 -5.27828574e-01 -5.22005677e-01 ... -5.80941021e-01\n",
      "   -2.28682548e-01  6.76998258e-01]\n",
      "  ...\n",
      "  [ 6.14811897e-01  9.08079296e-02  1.22900166e-01 ... -4.83617783e-01\n",
      "   -5.61085701e-01 -4.56480354e-01]\n",
      "  [ 6.63996160e-01  2.27824859e-02  1.21976353e-01 ... -4.74959493e-01\n",
      "   -3.69891763e-01 -4.18557405e-01]\n",
      "  [ 6.16299748e-01 -1.20768666e-01  3.73014398e-02 ... -4.32481796e-01\n",
      "   -3.58048201e-01 -4.39199001e-01]]\n",
      "\n",
      " [[-1.37222230e-01  4.31506276e-01  7.64555298e-05 ...  1.46799302e+00\n",
      "   -7.56195843e-01  5.60229957e-01]\n",
      "  [ 8.77070874e-02 -5.99294782e-01 -3.76436114e-02 ...  3.57749939e-01\n",
      "   -1.25473118e+00  9.52860236e-01]\n",
      "  [-1.10359251e-01 -8.14597905e-02 -6.13647163e-01 ... -1.25088856e-01\n",
      "   -5.48544884e-01  5.75952113e-01]\n",
      "  ...\n",
      "  [ 5.88704228e-01  2.08801910e-01  1.21231861e-01 ... -4.46580052e-01\n",
      "   -4.31066066e-01 -4.42861855e-01]\n",
      "  [ 4.31374818e-01 -5.79598546e-02  1.28517985e-01 ... -4.48998332e-01\n",
      "   -4.31935132e-01 -5.75836062e-01]\n",
      "  [ 6.19926333e-01  1.23447180e-01  2.12609723e-01 ... -4.62378919e-01\n",
      "   -4.12041485e-01 -4.83301908e-01]]], shape=(5, 128, 256), dtype=float32)\n"
     ]
    }
   ],
   "source": [
    "import tensorflow_text as text  # Imports TF ops for preprocessing.\n",
    "\n",
    "# Define some sentences to feed into the model\n",
    "sentences = [\n",
    "  \"Here We Go Then, You And I is a 1999 album by Norwegian pop artist Morten Abel. It was Abel's second CD as a solo artist.\",\n",
    "  \"The album went straight to number one on the Norwegian album chart, and sold to double platinum.\",\n",
    "  \"Ceylon spinach is a common name for several plants and may refer to: Basella alba Talinum fruticosum\",\n",
    "  \"A solar eclipse occurs when the Moon passes between Earth and the Sun, thereby totally or partly obscuring the image of the Sun for a viewer on Earth.\",\n",
    "  \"A partial solar eclipse occurs in the polar regions of the Earth when the center of the Moon's shadow misses the Earth.\",\n",
    "]\n",
    "\n",
    "# Load the BERT encoder and preprocessing models\n",
    "preprocess = hub.load('https://tfhub.dev/tensorflow/bert_en_uncased_preprocess/3')\n",
    "bert = hub.load('https://tfhub.dev/google/electra_small/2')\n",
    "\n",
    "# Convert the sentences to bert inputs\n",
    "bert_inputs = preprocess(sentences)\n",
    "\n",
    "# Feed the inputs to the model to get the pooled and sequence outputs\n",
    "bert_outputs = bert(bert_inputs, training=False)\n",
    "pooled_output = bert_outputs['pooled_output']\n",
    "sequence_output = bert_outputs['sequence_output']\n",
    "\n",
    "print('\\nSentences:')\n",
    "print(sentences)\n",
    "print('\\nPooled output:')\n",
    "print(pooled_output)\n",
    "print('\\nSequence output:')\n",
    "print(sequence_output)\n"
   ]
  },
  {
   "cell_type": "code",
   "execution_count": 13,
   "id": "d0df6a73",
   "metadata": {},
   "outputs": [
    {
     "data": {
      "text/plain": [
       "TensorShape([256])"
      ]
     },
     "execution_count": 13,
     "metadata": {},
     "output_type": "execute_result"
    }
   ],
   "source": [
    "pooled_output[0].shape"
   ]
  },
  {
   "cell_type": "code",
   "execution_count": null,
   "id": "45f72b12",
   "metadata": {},
   "outputs": [],
   "source": []
  }
 ],
 "metadata": {
  "kernelspec": {
   "display_name": "Python 3 (ipykernel)",
   "language": "python",
   "name": "python3"
  },
  "language_info": {
   "codemirror_mode": {
    "name": "ipython",
    "version": 3
   },
   "file_extension": ".py",
   "mimetype": "text/x-python",
   "name": "python",
   "nbconvert_exporter": "python",
   "pygments_lexer": "ipython3",
   "version": "3.10.4"
  }
 },
 "nbformat": 4,
 "nbformat_minor": 5
}
