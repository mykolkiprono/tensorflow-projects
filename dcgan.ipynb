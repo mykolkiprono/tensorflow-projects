{
 "cells": [
  {
   "cell_type": "code",
   "execution_count": 1,
   "id": "d6abe7fd",
   "metadata": {},
   "outputs": [
    {
     "name": "stderr",
     "output_type": "stream",
     "text": [
      "2023-01-19 10:43:49.413428: W tensorflow/stream_executor/platform/default/dso_loader.cc:64] Could not load dynamic library 'libcudart.so.11.0'; dlerror: libcudart.so.11.0: cannot open shared object file: No such file or directory\n",
      "2023-01-19 10:43:49.413468: I tensorflow/stream_executor/cuda/cudart_stub.cc:29] Ignore above cudart dlerror if you do not have a GPU set up on your machine.\n"
     ]
    }
   ],
   "source": [
    "import tensorflow as tf\n"
   ]
  },
  {
   "cell_type": "code",
   "execution_count": 3,
   "id": "c36d3e63",
   "metadata": {},
   "outputs": [
    {
     "name": "stdout",
     "output_type": "stream",
     "text": [
      "Requirement already satisfied: imageio in /home/mike/anaconda3/envs/tensorflow/lib/python3.10/site-packages (2.19.3)\n",
      "Requirement already satisfied: numpy in /home/mike/anaconda3/envs/tensorflow/lib/python3.10/site-packages (from imageio) (1.22.4)\n",
      "Requirement already satisfied: pillow>=8.3.2 in /home/mike/anaconda3/envs/tensorflow/lib/python3.10/site-packages (from imageio) (9.0.1)\n",
      "\n",
      "\u001b[1m[\u001b[0m\u001b[34;49mnotice\u001b[0m\u001b[1;39;49m]\u001b[0m\u001b[39;49m A new release of pip available: \u001b[0m\u001b[31;49m22.1.2\u001b[0m\u001b[39;49m -> \u001b[0m\u001b[32;49m22.3.1\u001b[0m\n",
      "\u001b[1m[\u001b[0m\u001b[34;49mnotice\u001b[0m\u001b[1;39;49m]\u001b[0m\u001b[39;49m To update, run: \u001b[0m\u001b[32;49mpip install --upgrade pip\u001b[0m\n",
      "Collecting git+https://github.com/tensorflow/docs\n",
      "  Cloning https://github.com/tensorflow/docs to /tmp/pip-req-build-bpeyv7gd\n",
      "  Running command git clone --filter=blob:none --quiet https://github.com/tensorflow/docs /tmp/pip-req-build-bpeyv7gd\n",
      "  Resolved https://github.com/tensorflow/docs to commit 8f431e2b96ebbebd325a7162a00c40653af799e5\n",
      "  Preparing metadata (setup.py) ... \u001b[?25ldone\n",
      "\u001b[?25hRequirement already satisfied: astor in /home/mike/anaconda3/envs/tensorflow/lib/python3.10/site-packages (from tensorflow-docs==0.0.0.dev0) (0.8.1)\n",
      "Requirement already satisfied: absl-py in /home/mike/anaconda3/envs/tensorflow/lib/python3.10/site-packages (from tensorflow-docs==0.0.0.dev0) (1.1.0)\n",
      "Requirement already satisfied: jinja2 in /home/mike/anaconda3/envs/tensorflow/lib/python3.10/site-packages (from tensorflow-docs==0.0.0.dev0) (3.1.2)\n",
      "Requirement already satisfied: nbformat in /home/mike/anaconda3/envs/tensorflow/lib/python3.10/site-packages (from tensorflow-docs==0.0.0.dev0) (5.3.0)\n",
      "Requirement already satisfied: protobuf<3.20,>=3.12.0 in /home/mike/anaconda3/envs/tensorflow/lib/python3.10/site-packages (from tensorflow-docs==0.0.0.dev0) (3.19.4)\n",
      "Requirement already satisfied: pyyaml in /home/mike/anaconda3/envs/tensorflow/lib/python3.10/site-packages (from tensorflow-docs==0.0.0.dev0) (6.0)\n",
      "Requirement already satisfied: MarkupSafe>=2.0 in /home/mike/anaconda3/envs/tensorflow/lib/python3.10/site-packages (from jinja2->tensorflow-docs==0.0.0.dev0) (2.1.1)\n",
      "Requirement already satisfied: traitlets>=4.1 in /home/mike/anaconda3/envs/tensorflow/lib/python3.10/site-packages (from nbformat->tensorflow-docs==0.0.0.dev0) (5.1.1)\n",
      "Requirement already satisfied: fastjsonschema in /home/mike/anaconda3/envs/tensorflow/lib/python3.10/site-packages (from nbformat->tensorflow-docs==0.0.0.dev0) (2.15.1)\n",
      "Requirement already satisfied: jsonschema>=2.6 in /home/mike/anaconda3/envs/tensorflow/lib/python3.10/site-packages (from nbformat->tensorflow-docs==0.0.0.dev0) (4.4.0)\n",
      "Requirement already satisfied: jupyter-core in /home/mike/anaconda3/envs/tensorflow/lib/python3.10/site-packages (from nbformat->tensorflow-docs==0.0.0.dev0) (4.10.0)\n",
      "Requirement already satisfied: attrs>=17.4.0 in /home/mike/anaconda3/envs/tensorflow/lib/python3.10/site-packages (from jsonschema>=2.6->nbformat->tensorflow-docs==0.0.0.dev0) (21.4.0)\n",
      "Requirement already satisfied: pyrsistent!=0.17.0,!=0.17.1,!=0.17.2,>=0.14.0 in /home/mike/anaconda3/envs/tensorflow/lib/python3.10/site-packages (from jsonschema>=2.6->nbformat->tensorflow-docs==0.0.0.dev0) (0.18.0)\n",
      "\n",
      "\u001b[1m[\u001b[0m\u001b[34;49mnotice\u001b[0m\u001b[1;39;49m]\u001b[0m\u001b[39;49m A new release of pip available: \u001b[0m\u001b[31;49m22.1.2\u001b[0m\u001b[39;49m -> \u001b[0m\u001b[32;49m22.3.1\u001b[0m\n",
      "\u001b[1m[\u001b[0m\u001b[34;49mnotice\u001b[0m\u001b[1;39;49m]\u001b[0m\u001b[39;49m To update, run: \u001b[0m\u001b[32;49mpip install --upgrade pip\u001b[0m\n"
     ]
    }
   ],
   "source": [
    "# To generate GIFs\n",
    "!pip install imageio\n",
    "!pip install git+https://github.com/tensorflow/docs\n"
   ]
  },
  {
   "cell_type": "code",
   "execution_count": null,
   "id": "8672f963",
   "metadata": {},
   "outputs": [],
   "source": []
  }
 ],
 "metadata": {
  "kernelspec": {
   "display_name": "Python 3 (ipykernel)",
   "language": "python",
   "name": "python3"
  },
  "language_info": {
   "codemirror_mode": {
    "name": "ipython",
    "version": 3
   },
   "file_extension": ".py",
   "mimetype": "text/x-python",
   "name": "python",
   "nbconvert_exporter": "python",
   "pygments_lexer": "ipython3",
   "version": "3.10.4"
  }
 },
 "nbformat": 4,
 "nbformat_minor": 5
}
