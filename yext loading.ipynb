{
 "cells": [
  {
   "cell_type": "code",
   "execution_count": 1,
   "id": "329b217b",
   "metadata": {},
   "outputs": [
    {
     "name": "stderr",
     "output_type": "stream",
     "text": [
      "2023-02-09 17:28:15.472190: W tensorflow/stream_executor/platform/default/dso_loader.cc:64] Could not load dynamic library 'libcudart.so.11.0'; dlerror: libcudart.so.11.0: cannot open shared object file: No such file or directory\n",
      "2023-02-09 17:28:15.472231: I tensorflow/stream_executor/cuda/cudart_stub.cc:29] Ignore above cudart dlerror if you do not have a GPU set up on your machine.\n",
      "/home/mike/anaconda3/envs/tensorflow/lib/python3.10/site-packages/tqdm/auto.py:22: TqdmWarning: IProgress not found. Please update jupyter and ipywidgets. See https://ipywidgets.readthedocs.io/en/stable/user_install.html\n",
      "  from .autonotebook import tqdm as notebook_tqdm\n"
     ]
    }
   ],
   "source": [
    "import collections\n",
    "import pathlib\n",
    "\n",
    "import tensorflow as tf\n",
    "\n",
    "from tensorflow.keras import layers\n",
    "from tensorflow.keras import losses\n",
    "from tensorflow.keras import utils\n",
    "from tensorflow.keras.layers import TextVectorization\n",
    "\n",
    "import tensorflow_datasets as tfds\n",
    "import tensorflow_text as tf_text\n"
   ]
  },
  {
   "cell_type": "code",
   "execution_count": 4,
   "id": "5409a258",
   "metadata": {},
   "outputs": [],
   "source": [
    "dataset_dir = pathlib.Path(\"/home/mike/Downloads/news articles/data/texts\").parent"
   ]
  },
  {
   "cell_type": "code",
   "execution_count": 5,
   "id": "b1a0fb70",
   "metadata": {},
   "outputs": [
    {
     "data": {
      "text/plain": [
       "[PosixPath('/home/mike/Downloads/news articles/data/texts'),\n",
       " PosixPath('/home/mike/Downloads/news articles/data/html'),\n",
       " PosixPath('/home/mike/Downloads/news articles/data/data.csv')]"
      ]
     },
     "execution_count": 5,
     "metadata": {},
     "output_type": "execute_result"
    }
   ],
   "source": [
    "list(dataset_dir.iterdir())\n"
   ]
  },
  {
   "cell_type": "code",
   "execution_count": 7,
   "id": "4ec9655c",
   "metadata": {},
   "outputs": [],
   "source": [
    "# train_dir = dataset_dir/'train'\n",
    "# list(train_dir.iterdir())\n"
   ]
  },
  {
   "cell_type": "code",
   "execution_count": 11,
   "id": "85f7bea9",
   "metadata": {},
   "outputs": [
    {
     "name": "stdout",
     "output_type": "stream",
     "text": [
      "TALLINN, 28. detsember — Sputnik. Publitsist ja ühiskonnategelane Dimitri Klenski saatis Eesti Ajakirjanike Liidule, Eesti Meediaettevõtete Liidule ja Eesti Akadeemilisele Ajakirjanduse Seltsile avaliku kirja palvega anda hinnang survele, mida võimud avaldavad Sputnik Eesti töötajatele.\n",
      "\n",
      "Sputnik Eesti avaldab tema kirja täies mahus.\n",
      "\n",
      "\"Tere! Saan aru, et alanud jõulud ei lubanud Teil võtta seisukohta Eestis tegutseva Venemaa meediakanali Sputnik Eesti vastu käivitatud terrori osas. Ometi on Eesti meedia ja võimud seda uudistetoimetust mõnitanud ja jälitanud juba pikemat aega. Selle kulminatsioon tekkis ammu enne jõule. Ometi pole EAL ja EAAS, aga ka Eesti Meediaettevõtete Liit minu teada võtnud seisukohta selles küsimuses. See on kummaline, sest tegemist on ikkagi Eestis tegutseva Venemaa uudistetoimetusega ja kära selle skandaali ümber käib juba üle terve Euroopa Liidu, rääkimata Venemaast.\n",
      "\n",
      "Olen ka varem pöördunud EALi juhatuse poole palvega anda hinnang Venemaa ajakirjanike jälitamisele Ukraina võimude ja massimeedia poolt, kuid vastus oli pehmelt öeldes bürokraatlik: minu pöördumine võeti lihtsalt teadmiseks.\n",
      "\n",
      "Teie vaikimine on häbiväärne, sest Euroopa Liit pole Sputniku vastu mingeid sanktsioone kehtestanud. Igal juhul on OSCE ajakirjandusvabaduse esindaja Harlem Désir pöördunud Eesti võimude poole palvega hoiduda välismaise meedia tegevuse tarbetust piiramisest, mis võib kahjustada teabe vaba liikumist. Lõppude lõpuks on Eestiski inimesi, kes mõistavad hukka Sputnik Eesti vastu suunatud vaenuliku kampaania.\n",
      "\n",
      "Kas Teil tõesti ei jätku julgust mõista hukka Eesti võimude provokatsioon? Ega te ometi ole võimude käepikendus, kes toetab nende poliitilist omavoli? Siinkohal sooviksin lisada, et Sputnik Eesti vastu pole minu teada esitatud ühtki süüdistust valetamises. Mis puutub selle uudisteagentuuri tembeldamisse Vene propaganda hääletoruks, siis tuleb tunnistada, et kõik meie suurimad ajalehed, raadio ja telekanalid on Eesti propaganda hääletorud. Põhiküsimus on selles, kas propaganda põhineb tõel või valel või lausa sihilikul valel. Kordan, et Sputniku valest pole ma midagi kuulnud. Ka Eesti võimud ei süüdista Sputnikut valetamises.\n",
      "\n",
      "Palun Teil võtta seisukoht tekkinud skandaali osas ja mõista hukka Eesti võimude provokatiivne hoiak mitte ainult Sputniku, vaid ka Venemaa suhtes.\n",
      "\n",
      "Kui Te seda ei tee ega avalikusta oma seisukohta, tekib küsimus meie organisatsioonide väärikusest ja professionaalsusest, samuti sellest, kas on mõtet olla nende organisatsioonide liige.\n",
      "\n",
      "Jään ootama Teie ametlikku seisukohta.\n",
      "\n",
      "Lugupidamisega ja head uut aastat soovides, Dimitri Klenski, EALi liige 1976. aastast.\"\n",
      "\n",
      "Ametivõimude surve Sputnik Eestile\n",
      "\n",
      "Tänavu sügisel sattusid Sputnik Eesti töötajad silmitsi surveavaldusega ametivõimude ja rahandusasutuste poolt. Esimese hoobi andsid rahvusvaheliste pankade Eesti filiaalid, külmutades palgaülekanded ning maksu- ja muude maksete ülekanded. Tulemusena oli bürooruumide üürileandja sunnitud tühistama toimetusega sõlmitud rendilepingu.\n",
      "\n",
      "Seejärel saatis Politsei- ja Piirivalveameti Rahapesu Andmebüroo detsembri keskel Sputnik Eesti töötajatele kirjad ähvardusega alustada kriminaalmenetlust, kui nad 2020. aasta 1. jaanuariks oma töökohalt ei lahku.\n",
      "\n",
      "Ähvarduse ettekäändeks osutus Rossija Segodnja peadirektori Dmitri Kisseljovi kandmine tema seisukoha tõttu Ukraina sündmuste suhtes Euroopa Liidu sanktsioonide alla kuuluvate isikute nimekirja.\n",
      "\n",
      "Samas aga ei ole Vene riigile kuuluv Rossija Segodnja (Sputnik Eesti emaagentuur) ise mitte üheski sanktsioneeritavate nimekirjas ja mitte üheski Euroopa Liidu riigis tema töötajate suhtes selliseid meetmeid ei rakendata.\n",
      "\n",
      "Sputnik Eesti peatoimetaja Elena Cherysheva esitas RIA Rossija Segodnja nimel politseile avalduse kontrollida toimetuse töötajate suhtes kohaldatud sanktsioonide aluseid.\n",
      "\n",
      "Rahvusvahelise teabeagentuuri Rossija Segodnja ja telekanali RT peatoimetaja Margarita Simonjan on pöördunud Eesti presidendi Kersti Kaljulaidi poole üleskutsega mitte lasta ajakirjanikke vahi alla võtta.\n",
      "\n",
      "Venemaa Föderatsiooninõukogu esimees Valentina Matvijenko lubas Eestile rakendada \"tundlikke meetmeid\" vastusena Sputnik Eesti töötajatele osaks saanud ähvardustele.\n",
      "\n",
      "Balti riikide ametivõinud on korduvalt Venemaa meediakanalite tööle takistusi teinud. Venemaa välisministeeriumis on sedastatud, et nende riikide tegevusliinil on ilmsed kooskõlastatuse tunnused. Meedia ahistamisjuhtumid, nagu Venemaa välisministeeriumis märgiti, \"näitavad ilmekalt, kui palju tegelikult maksavad Vilniuse, Riia ja Tallinna demagoogilised avaldused ustavusest demokraatia ja sõnavabaduse põhimõtetele.\"\n",
      "\n",
      "Lugege lisaks:\n"
     ]
    }
   ],
   "source": [
    "sample_file = dataset_dir/'news_articles_121.txt'\n",
    "\n",
    "with open(\"/home/mike/Downloads/news articles/data/texts/news_articles_122.txt\") as f:\n",
    "  print(f.read())\n"
   ]
  },
  {
   "cell_type": "code",
   "execution_count": 13,
   "id": "312298e0",
   "metadata": {},
   "outputs": [],
   "source": [
    "batch_size = 32\n",
    "seed = 42\n",
    "\n",
    "raw_train_ds = utils.text_dataset_from_directory(\n",
    "    \"/home/mike/Downloads/news articles/data/texts\",\n",
    "    batch_size=batch_size,\n",
    "    validation_split=0.2,\n",
    "    subset='training',\n",
    "    seed=seed)\n"
   ]
  },
  {
   "cell_type": "code",
   "execution_count": null,
   "id": "de4a7c60",
   "metadata": {},
   "outputs": [],
   "source": []
  }
 ],
 "metadata": {
  "kernelspec": {
   "display_name": "Python 3 (ipykernel)",
   "language": "python",
   "name": "python3"
  },
  "language_info": {
   "codemirror_mode": {
    "name": "ipython",
    "version": 3
   },
   "file_extension": ".py",
   "mimetype": "text/x-python",
   "name": "python",
   "nbconvert_exporter": "python",
   "pygments_lexer": "ipython3",
   "version": "3.10.4"
  }
 },
 "nbformat": 4,
 "nbformat_minor": 5
}
